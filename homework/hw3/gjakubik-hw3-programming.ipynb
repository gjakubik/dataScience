{
 "cells": [
  {
   "cell_type": "markdown",
   "metadata": {},
   "source": [
    "## HW3: K Means Clustering"
   ]
  },
  {
   "cell_type": "code",
   "execution_count": 1,
   "metadata": {},
   "outputs": [
    {
     "data": {
      "text/html": [
       "<div>\n",
       "<style scoped>\n",
       "    .dataframe tbody tr th:only-of-type {\n",
       "        vertical-align: middle;\n",
       "    }\n",
       "\n",
       "    .dataframe tbody tr th {\n",
       "        vertical-align: top;\n",
       "    }\n",
       "\n",
       "    .dataframe thead th {\n",
       "        text-align: right;\n",
       "    }\n",
       "</style>\n",
       "<table border=\"1\" class=\"dataframe\">\n",
       "  <thead>\n",
       "    <tr style=\"text-align: right;\">\n",
       "      <th></th>\n",
       "      <th>College</th>\n",
       "      <th>Win_2015</th>\n",
       "      <th>Win_2017</th>\n",
       "      <th>Rank_2015</th>\n",
       "      <th>Rank_2017</th>\n",
       "    </tr>\n",
       "  </thead>\n",
       "  <tbody>\n",
       "    <tr>\n",
       "      <th>0</th>\n",
       "      <td>Alabama</td>\n",
       "      <td>12</td>\n",
       "      <td>11</td>\n",
       "      <td>2</td>\n",
       "      <td>4</td>\n",
       "    </tr>\n",
       "    <tr>\n",
       "      <th>1</th>\n",
       "      <td>Clemson</td>\n",
       "      <td>13</td>\n",
       "      <td>12</td>\n",
       "      <td>1</td>\n",
       "      <td>1</td>\n",
       "    </tr>\n",
       "    <tr>\n",
       "      <th>2</th>\n",
       "      <td>LSU</td>\n",
       "      <td>8</td>\n",
       "      <td>9</td>\n",
       "      <td>22</td>\n",
       "      <td>16</td>\n",
       "    </tr>\n",
       "    <tr>\n",
       "      <th>3</th>\n",
       "      <td>Michigan State</td>\n",
       "      <td>12</td>\n",
       "      <td>9</td>\n",
       "      <td>3</td>\n",
       "      <td>18</td>\n",
       "    </tr>\n",
       "    <tr>\n",
       "      <th>4</th>\n",
       "      <td>Northwestern</td>\n",
       "      <td>10</td>\n",
       "      <td>9</td>\n",
       "      <td>8</td>\n",
       "      <td>14</td>\n",
       "    </tr>\n",
       "    <tr>\n",
       "      <th>5</th>\n",
       "      <td>Notre Dame</td>\n",
       "      <td>10</td>\n",
       "      <td>9</td>\n",
       "      <td>8</td>\n",
       "      <td>14</td>\n",
       "    </tr>\n",
       "    <tr>\n",
       "      <th>6</th>\n",
       "      <td>Ohio State</td>\n",
       "      <td>11</td>\n",
       "      <td>11</td>\n",
       "      <td>7</td>\n",
       "      <td>5</td>\n",
       "    </tr>\n",
       "    <tr>\n",
       "      <th>7</th>\n",
       "      <td>Oklahoma</td>\n",
       "      <td>11</td>\n",
       "      <td>12</td>\n",
       "      <td>4</td>\n",
       "      <td>2</td>\n",
       "    </tr>\n",
       "    <tr>\n",
       "      <th>8</th>\n",
       "      <td>Oklahoma State</td>\n",
       "      <td>10</td>\n",
       "      <td>9</td>\n",
       "      <td>13</td>\n",
       "      <td>17</td>\n",
       "    </tr>\n",
       "    <tr>\n",
       "      <th>9</th>\n",
       "      <td>Stanford</td>\n",
       "      <td>11</td>\n",
       "      <td>9</td>\n",
       "      <td>5</td>\n",
       "      <td>15</td>\n",
       "    </tr>\n",
       "    <tr>\n",
       "      <th>10</th>\n",
       "      <td>TCU</td>\n",
       "      <td>10</td>\n",
       "      <td>10</td>\n",
       "      <td>11</td>\n",
       "      <td>13</td>\n",
       "    </tr>\n",
       "    <tr>\n",
       "      <th>11</th>\n",
       "      <td>Wisconsin</td>\n",
       "      <td>9</td>\n",
       "      <td>12</td>\n",
       "      <td>23</td>\n",
       "      <td>6</td>\n",
       "    </tr>\n",
       "  </tbody>\n",
       "</table>\n",
       "</div>"
      ],
      "text/plain": [
       "           College  Win_2015  Win_2017  Rank_2015  Rank_2017\n",
       "0          Alabama        12        11          2          4\n",
       "1          Clemson        13        12          1          1\n",
       "2              LSU         8         9         22         16\n",
       "3   Michigan State        12         9          3         18\n",
       "4     Northwestern        10         9          8         14\n",
       "5       Notre Dame        10         9          8         14\n",
       "6       Ohio State        11        11          7          5\n",
       "7         Oklahoma        11        12          4          2\n",
       "8   Oklahoma State        10         9         13         17\n",
       "9         Stanford        11         9          5         15\n",
       "10             TCU        10        10         11         13\n",
       "11       Wisconsin         9        12         23          6"
      ]
     },
     "execution_count": 1,
     "metadata": {},
     "output_type": "execute_result"
    }
   ],
   "source": [
    "import pandas as pd\n",
    "import numpy as np\n",
    "df = pd.read_csv(\"data-hw3.txt\", delimiter=\"\\t\")\n",
    "df"
   ]
  },
  {
   "cell_type": "code",
   "execution_count": 2,
   "metadata": {},
   "outputs": [
    {
     "name": "stdout",
     "output_type": "stream",
     "text": [
      "Number of instances: 12\n"
     ]
    },
    {
     "data": {
      "text/plain": [
       "['Alabama',\n",
       " 'Clemson',\n",
       " 'LSU',\n",
       " 'Michigan State',\n",
       " 'Northwestern',\n",
       " 'Notre Dame',\n",
       " 'Ohio State',\n",
       " 'Oklahoma',\n",
       " 'Oklahoma State',\n",
       " 'Stanford',\n",
       " 'TCU',\n",
       " 'Wisconsin']"
      ]
     },
     "execution_count": 2,
     "metadata": {},
     "output_type": "execute_result"
    }
   ],
   "source": [
    "objects = []\n",
    "instances = []\n",
    "for instance in df.to_numpy():\n",
    "    objects.append(instance[0])\n",
    "    featureValues = list(instance[1:])\n",
    "    instances.append(featureValues)\n",
    "nInstances = len(instances)\n",
    "print(\"Number of instances:\", nInstances)\n",
    "objects"
   ]
  },
  {
   "cell_type": "code",
   "execution_count": 3,
   "metadata": {},
   "outputs": [
    {
     "data": {
      "text/plain": [
       "array([[12, 11,  2,  4],\n",
       "       [13, 12,  1,  1],\n",
       "       [ 8,  9, 22, 16],\n",
       "       [12,  9,  3, 18],\n",
       "       [10,  9,  8, 14],\n",
       "       [10,  9,  8, 14],\n",
       "       [11, 11,  7,  5],\n",
       "       [11, 12,  4,  2],\n",
       "       [10,  9, 13, 17],\n",
       "       [11,  9,  5, 15],\n",
       "       [10, 10, 11, 13],\n",
       "       [ 9, 12, 23,  6]])"
      ]
     },
     "execution_count": 3,
     "metadata": {},
     "output_type": "execute_result"
    }
   ],
   "source": [
    "X = np.array(instances)\n",
    "X"
   ]
  },
  {
   "cell_type": "markdown",
   "metadata": {},
   "source": [
    "### Q1: Compare Initial Centroids"
   ]
  },
  {
   "cell_type": "code",
   "execution_count": 4,
   "metadata": {},
   "outputs": [
    {
     "data": {
      "text/plain": [
       "<matplotlib.collections.PathCollection at 0x20e955497c0>"
      ]
     },
     "execution_count": 4,
     "metadata": {},
     "output_type": "execute_result"
    },
    {
     "data": {
      "image/png": "[encoded data removed]",
      "text/plain": [
       "<Figure size 432x288 with 1 Axes>"
      ]
     },
     "metadata": {
      "needs_background": "light"
     },
     "output_type": "display_data"
    }
   ],
   "source": [
    "import matplotlib.pyplot as plt\n",
    "plt.scatter(X[:,0], X[:,1])"
   ]
  },
  {
   "cell_type": "markdown",
   "metadata": {},
   "source": [
    "1) Initial centroids: (7, 7) and (14, 14)"
   ]
  },
  {
   "cell_type": "code",
   "execution_count": 5,
   "metadata": {},
   "outputs": [
    {
     "name": "stdout",
     "output_type": "stream",
     "text": [
      "[[10.0, 9.5], [11.75, 11.5]]\n",
      "[[[8, 9], [12, 9], [10, 9], [10, 9], [10, 9], [11, 9], [10, 10], [9, 12]], [[12, 11], [13, 12], [11, 11], [11, 12]]]\n"
     ]
    }
   ],
   "source": [
    "## TODO: K Means clustering (K = 2, Euclidean distance)\n",
    "\n",
    "# if p1 = [x1, y1] and p2 = [x2, y2]his will return euclidian distance\n",
    "def eucDist(p1, p2):\n",
    "    return (((p2[0] - p1[0]) ** 2) + ((p2[1] - p1[1]) ** 2)) ** 0.5\n",
    "\n",
    "def manDist(p1, p2):\n",
    "    return sum(abs(val1-val2) for val1, val2, in zip(p1, p2))\n",
    "\n",
    "def ptAvg(points):\n",
    "    sumX = sum(p[0] for p in points)\n",
    "    sumY = sum(p[1] for p in points)\n",
    "    \n",
    "    return [sumX/len(points), sumY/len(points)]\n",
    "\n",
    "# Takes in instances and initial centroids and does k means clustering\n",
    "def clustering(points, centroids, old_clusters, euclidian=True):\n",
    "    \n",
    "    # Find distances to each centroid from each point\n",
    "    distances = []\n",
    "    for pt in points:\n",
    "        ptDists = []\n",
    "        for cent in centroids:\n",
    "            if euclidian:\n",
    "                ptDists.append(eucDist(cent, pt))\n",
    "            else:\n",
    "                ptDists.append(manDist(cent, pt))\n",
    "        \n",
    "        distances.append(ptDists)\n",
    "    \n",
    "    # Find each centroid's cluster points\n",
    "    clusters = [[] for i in centroids]\n",
    "    for i, point in enumerate(distances):\n",
    "        minDist = 1000000\n",
    "        minIndex = 0\n",
    "        for y, dist in enumerate(point):\n",
    "            if dist < minDist:\n",
    "                minDist = dist\n",
    "                minIndex = y\n",
    "        \n",
    "        clusters[minIndex].append(points[i])\n",
    "    \n",
    "    # Terminate if no changes to cluster occur\n",
    "    if clusters == old_clusters: \n",
    "        return centroids, clusters\n",
    "    \n",
    "    \n",
    "    # Find new centroids\n",
    "    new_centroids = []\n",
    "    for cluster in clusters:\n",
    "        new_centroids.append(ptAvg(cluster))\n",
    "        \n",
    "    # Run again\n",
    "    return clustering(points, new_centroids, clusters, euclidian=euclidian) \n",
    "    \n",
    "\n",
    "points = []\n",
    "for inst in X:\n",
    "    points.append([inst[0], inst[1]])\n",
    "    \n",
    "centroids, clusters = clustering(points, [[7, 7], [14, 14]], [])\n",
    "\n",
    "print(centroids)\n",
    "print(clusters)\n",
    "    "
   ]
  },
  {
   "cell_type": "code",
   "execution_count": 6,
   "metadata": {},
   "outputs": [
    {
     "data": {
      "image/png": "[encoded data removed]",
      "text/plain": [
       "<Figure size 432x288 with 1 Axes>"
      ]
     },
     "metadata": {
      "needs_background": "light"
     },
     "output_type": "display_data"
    }
   ],
   "source": [
    "## TODO: Visualization\n",
    "colors = ['blue', 'red']\n",
    "for i, cluster in enumerate(clusters):\n",
    "    cluster = np.array(cluster)\n",
    "    plt.scatter(cluster[:,0], cluster[:,1], c=colors[i])"
   ]
  },
  {
   "cell_type": "markdown",
   "metadata": {},
   "source": [
    "2) Initial centroids: (7, 7) and (7, 14)"
   ]
  },
  {
   "cell_type": "code",
   "execution_count": 7,
   "metadata": {},
   "outputs": [
    {
     "name": "stdout",
     "output_type": "stream",
     "text": [
      "[[10.142857142857142, 9.142857142857142], [11.2, 11.6]]\n",
      "[[[8, 9], [12, 9], [10, 9], [10, 9], [10, 9], [11, 9], [10, 10]], [[12, 11], [13, 12], [11, 11], [11, 12], [9, 12]]]\n"
     ]
    }
   ],
   "source": [
    "## TODO: K Means clustering (K = 2, Euclidean distance)\n",
    "\n",
    "points = []\n",
    "for inst in X:\n",
    "    points.append([inst[0], inst[1]])\n",
    "    \n",
    "centroids, clusters = clustering(points, [[7, 7], [7, 14]], [])\n",
    "print(centroids)\n",
    "print(clusters)"
   ]
  },
  {
   "cell_type": "code",
   "execution_count": 8,
   "metadata": {},
   "outputs": [
    {
     "data": {
      "image/png": "[encoded data removed]",
      "text/plain": [
       "<Figure size 432x288 with 1 Axes>"
      ]
     },
     "metadata": {
      "needs_background": "light"
     },
     "output_type": "display_data"
    }
   ],
   "source": [
    "## TODO: Visualization (2 clusters)\n",
    "colors = ['blue', 'red']\n",
    "for i, cluster in enumerate(clusters):\n",
    "    cluster = np.array(cluster)\n",
    "    plt.scatter(cluster[:,0], cluster[:,1], c=colors[i])"
   ]
  },
  {
   "cell_type": "markdown",
   "metadata": {},
   "source": [
    "### Q2: Compare Features"
   ]
  },
  {
   "cell_type": "code",
   "execution_count": 9,
   "metadata": {},
   "outputs": [
    {
     "data": {
      "text/plain": [
       "<matplotlib.collections.PathCollection at 0x20e95705ee0>"
      ]
     },
     "execution_count": 9,
     "metadata": {},
     "output_type": "execute_result"
    },
    {
     "data": {
      "image/png": "[encoded data removed]",
      "text/plain": [
       "<Figure size 432x288 with 1 Axes>"
      ]
     },
     "metadata": {
      "needs_background": "light"
     },
     "output_type": "display_data"
    }
   ],
   "source": [
    "plt.scatter(X[:,2], X[:,3])"
   ]
  },
  {
   "cell_type": "markdown",
   "metadata": {},
   "source": [
    "Initial centroids: (1, 1) and (25, 25), Manhattan distance"
   ]
  },
  {
   "cell_type": "code",
   "execution_count": 10,
   "metadata": {},
   "outputs": [
    {
     "name": "stdout",
     "output_type": "stream",
     "text": [
      "[[4.75, 9.125], [17.25, 13.0]]\n",
      "[[[2, 4], [1, 1], [3, 18], [8, 14], [8, 14], [7, 5], [4, 2], [5, 15]], [[22, 16], [13, 17], [11, 13], [23, 6]]]\n"
     ]
    }
   ],
   "source": [
    "## TODO: K Means clustering (K = 2, Manhattan distance)\n",
    "points = []\n",
    "for inst in X:\n",
    "    points.append([inst[2], inst[3]])\n",
    "    \n",
    "centroids, clusters = clustering(points, [[1, 1], [25, 25]], [], euclidian=False)\n",
    "print(centroids)\n",
    "print(clusters)"
   ]
  },
  {
   "cell_type": "code",
   "execution_count": 11,
   "metadata": {},
   "outputs": [
    {
     "data": {
      "image/png": "[encoded data removed]",
      "text/plain": [
       "<Figure size 432x288 with 1 Axes>"
      ]
     },
     "metadata": {
      "needs_background": "light"
     },
     "output_type": "display_data"
    }
   ],
   "source": [
    "## TODO: Visualization (2 clusters)\n",
    "colors = ['blue', 'red']\n",
    "for i, cluster in enumerate(clusters):\n",
    "    cluster = np.array(cluster)\n",
    "    plt.scatter(cluster[:,0], cluster[:,1], c=colors[i])"
   ]
  },
  {
   "cell_type": "markdown",
   "metadata": {},
   "source": [
    "### Q3: Choose a good K"
   ]
  },
  {
   "cell_type": "code",
   "execution_count": 12,
   "metadata": {},
   "outputs": [
    {
     "data": {
      "text/plain": [
       "<matplotlib.collections.PathCollection at 0x20e9571fc40>"
      ]
     },
     "execution_count": 12,
     "metadata": {},
     "output_type": "execute_result"
    },
    {
     "data": {
      "image/png": "[encoded data removed]",
      "text/plain": [
       "<Figure size 432x288 with 1 Axes>"
      ]
     },
     "metadata": {
      "needs_background": "light"
     },
     "output_type": "display_data"
    }
   ],
   "source": [
    "plt.scatter(X[:,2], X[:,3])"
   ]
  },
  {
   "cell_type": "markdown",
   "metadata": {},
   "source": [
    "Suppose K = 3. Specify three initial centroids by yourself. Manhattan distance."
   ]
  },
  {
   "cell_type": "code",
   "execution_count": 13,
   "metadata": {},
   "outputs": [
    {
     "name": "stdout",
     "output_type": "stream",
     "text": [
      "[[3.5, 3.0], [8.0, 15.166666666666666], [22.5, 11.0]]\n",
      "[[[2, 4], [1, 1], [7, 5], [4, 2]], [[3, 18], [8, 14], [8, 14], [13, 17], [5, 15], [11, 13]], [[22, 16], [23, 6]]]\n"
     ]
    }
   ],
   "source": [
    "## TODO: K Means clustering (K = 3, Manhattan distance)\n",
    "\n",
    "points = []\n",
    "for inst in X:\n",
    "    points.append([inst[2], inst[3]])\n",
    "    \n",
    "centroids, clusters = clustering(points, [[1, 1], [10, 10], [25, 25]], [], euclidian=False)\n",
    "print(centroids)\n",
    "print(clusters)"
   ]
  },
  {
   "cell_type": "code",
   "execution_count": 14,
   "metadata": {},
   "outputs": [
    {
     "data": {
      "image/png": "[encoded data removed]",
      "text/plain": [
       "<Figure size 432x288 with 1 Axes>"
      ]
     },
     "metadata": {
      "needs_background": "light"
     },
     "output_type": "display_data"
    }
   ],
   "source": [
    "## TODO: Visualization (3 clusters)\n",
    "colors = ['blue', 'red', 'yellow']\n",
    "for i, cluster in enumerate(clusters):\n",
    "    cluster = np.array(cluster)\n",
    "    plt.scatter(cluster[:,0], cluster[:,1], c=colors[i])"
   ]
  },
  {
   "cell_type": "code",
   "execution_count": null,
   "metadata": {},
   "outputs": [],
   "source": []
  }
 ],
 "metadata": {
  "kernelspec": {
   "display_name": "Python 3",
   "language": "python",
   "name": "python3"
  },
  "language_info": {
   "codemirror_mode": {
    "name": "ipython",
    "version": 3
   },
   "file_extension": ".py",
   "mimetype": "text/x-python",
   "name": "python",
   "nbconvert_exporter": "python",
   "pygments_lexer": "ipython3",
   "version": "3.8.8"
  }
 },
 "nbformat": 4,
 "nbformat_minor": 4
}
