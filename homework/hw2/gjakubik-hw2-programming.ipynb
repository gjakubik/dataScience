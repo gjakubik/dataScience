{
 "cells": [
  {
   "cell_type": "markdown",
   "metadata": {},
   "source": [
    "# Notre Dame Football Game Prediction"
   ]
  },
  {
   "cell_type": "markdown",
   "metadata": {},
   "source": [
    "## 0. Load data"
   ]
  },
  {
   "cell_type": "markdown",
   "metadata": {},
   "source": [
    "### 0.1. Load training data from file"
   ]
  },
  {
   "cell_type": "code",
   "execution_count": 1,
   "metadata": {},
   "outputs": [
    {
     "data": {
      "text/html": [
       "<div>\n",
       "<style scoped>\n",
       "    .dataframe tbody tr th:only-of-type {\n",
       "        vertical-align: middle;\n",
       "    }\n",
       "\n",
       "    .dataframe tbody tr th {\n",
       "        vertical-align: top;\n",
       "    }\n",
       "\n",
       "    .dataframe thead th {\n",
       "        text-align: right;\n",
       "    }\n",
       "</style>\n",
       "<table border=\"1\" class=\"dataframe\">\n",
       "  <thead>\n",
       "    <tr style=\"text-align: right;\">\n",
       "      <th></th>\n",
       "      <th>ID</th>\n",
       "      <th>Date</th>\n",
       "      <th>Opponent</th>\n",
       "      <th>Is_Home_or_Away</th>\n",
       "      <th>Is_Opponent_in_AP25_Preseason</th>\n",
       "      <th>Media</th>\n",
       "      <th>Label</th>\n",
       "    </tr>\n",
       "  </thead>\n",
       "  <tbody>\n",
       "    <tr>\n",
       "      <th>0</th>\n",
       "      <td>1</td>\n",
       "      <td>9/5/15</td>\n",
       "      <td>Texas</td>\n",
       "      <td>Home</td>\n",
       "      <td>Out</td>\n",
       "      <td>NBC</td>\n",
       "      <td>Win</td>\n",
       "    </tr>\n",
       "    <tr>\n",
       "      <th>1</th>\n",
       "      <td>2</td>\n",
       "      <td>9/12/15</td>\n",
       "      <td>Virginia</td>\n",
       "      <td>Away</td>\n",
       "      <td>Out</td>\n",
       "      <td>ABC</td>\n",
       "      <td>Win</td>\n",
       "    </tr>\n",
       "    <tr>\n",
       "      <th>2</th>\n",
       "      <td>3</td>\n",
       "      <td>9/19/15</td>\n",
       "      <td>Georgia Tech</td>\n",
       "      <td>Home</td>\n",
       "      <td>In</td>\n",
       "      <td>NBC</td>\n",
       "      <td>Win</td>\n",
       "    </tr>\n",
       "    <tr>\n",
       "      <th>3</th>\n",
       "      <td>4</td>\n",
       "      <td>9/26/15</td>\n",
       "      <td>UMass</td>\n",
       "      <td>Home</td>\n",
       "      <td>Out</td>\n",
       "      <td>NBC</td>\n",
       "      <td>Win</td>\n",
       "    </tr>\n",
       "    <tr>\n",
       "      <th>4</th>\n",
       "      <td>5</td>\n",
       "      <td>10/3/15</td>\n",
       "      <td>Clemson</td>\n",
       "      <td>Away</td>\n",
       "      <td>In</td>\n",
       "      <td>ABC</td>\n",
       "      <td>Lose</td>\n",
       "    </tr>\n",
       "    <tr>\n",
       "      <th>5</th>\n",
       "      <td>6</td>\n",
       "      <td>10/10/15</td>\n",
       "      <td>Navy</td>\n",
       "      <td>Home</td>\n",
       "      <td>Out</td>\n",
       "      <td>NBC</td>\n",
       "      <td>Win</td>\n",
       "    </tr>\n",
       "    <tr>\n",
       "      <th>6</th>\n",
       "      <td>7</td>\n",
       "      <td>10/17/15</td>\n",
       "      <td>USC</td>\n",
       "      <td>Home</td>\n",
       "      <td>In</td>\n",
       "      <td>NBC</td>\n",
       "      <td>Win</td>\n",
       "    </tr>\n",
       "    <tr>\n",
       "      <th>7</th>\n",
       "      <td>8</td>\n",
       "      <td>10/31/15</td>\n",
       "      <td>Temple</td>\n",
       "      <td>Away</td>\n",
       "      <td>Out</td>\n",
       "      <td>ABC</td>\n",
       "      <td>Win</td>\n",
       "    </tr>\n",
       "    <tr>\n",
       "      <th>8</th>\n",
       "      <td>9</td>\n",
       "      <td>11/7/15</td>\n",
       "      <td>PITT</td>\n",
       "      <td>Away</td>\n",
       "      <td>Out</td>\n",
       "      <td>ABC</td>\n",
       "      <td>Win</td>\n",
       "    </tr>\n",
       "    <tr>\n",
       "      <th>9</th>\n",
       "      <td>10</td>\n",
       "      <td>11/14/15</td>\n",
       "      <td>Wake Forest</td>\n",
       "      <td>Home</td>\n",
       "      <td>Out</td>\n",
       "      <td>NBC</td>\n",
       "      <td>Win</td>\n",
       "    </tr>\n",
       "    <tr>\n",
       "      <th>10</th>\n",
       "      <td>11</td>\n",
       "      <td>11/21/15</td>\n",
       "      <td>Boston College</td>\n",
       "      <td>Away</td>\n",
       "      <td>Out</td>\n",
       "      <td>NBC</td>\n",
       "      <td>Win</td>\n",
       "    </tr>\n",
       "    <tr>\n",
       "      <th>11</th>\n",
       "      <td>12</td>\n",
       "      <td>11/28/15</td>\n",
       "      <td>Stanford</td>\n",
       "      <td>Away</td>\n",
       "      <td>In</td>\n",
       "      <td>FOX</td>\n",
       "      <td>Lose</td>\n",
       "    </tr>\n",
       "    <tr>\n",
       "      <th>12</th>\n",
       "      <td>13</td>\n",
       "      <td>9/4/16</td>\n",
       "      <td>Texas</td>\n",
       "      <td>Away</td>\n",
       "      <td>Out</td>\n",
       "      <td>ABC</td>\n",
       "      <td>Lose</td>\n",
       "    </tr>\n",
       "    <tr>\n",
       "      <th>13</th>\n",
       "      <td>14</td>\n",
       "      <td>9/10/16</td>\n",
       "      <td>Nevada</td>\n",
       "      <td>Home</td>\n",
       "      <td>Out</td>\n",
       "      <td>NBC</td>\n",
       "      <td>Win</td>\n",
       "    </tr>\n",
       "    <tr>\n",
       "      <th>14</th>\n",
       "      <td>15</td>\n",
       "      <td>9/17/16</td>\n",
       "      <td>Michigan State</td>\n",
       "      <td>Home</td>\n",
       "      <td>Out</td>\n",
       "      <td>NBC</td>\n",
       "      <td>Lose</td>\n",
       "    </tr>\n",
       "    <tr>\n",
       "      <th>15</th>\n",
       "      <td>16</td>\n",
       "      <td>9/24/16</td>\n",
       "      <td>Duke</td>\n",
       "      <td>Home</td>\n",
       "      <td>Out</td>\n",
       "      <td>NBC</td>\n",
       "      <td>Lose</td>\n",
       "    </tr>\n",
       "    <tr>\n",
       "      <th>16</th>\n",
       "      <td>17</td>\n",
       "      <td>10/1/16</td>\n",
       "      <td>Syracuse</td>\n",
       "      <td>Home</td>\n",
       "      <td>Out</td>\n",
       "      <td>ESPN</td>\n",
       "      <td>Win</td>\n",
       "    </tr>\n",
       "    <tr>\n",
       "      <th>17</th>\n",
       "      <td>18</td>\n",
       "      <td>10/8/16</td>\n",
       "      <td>North Carolina State</td>\n",
       "      <td>Away</td>\n",
       "      <td>Out</td>\n",
       "      <td>ABC</td>\n",
       "      <td>Lose</td>\n",
       "    </tr>\n",
       "    <tr>\n",
       "      <th>18</th>\n",
       "      <td>19</td>\n",
       "      <td>10/15/16</td>\n",
       "      <td>Stanford</td>\n",
       "      <td>Home</td>\n",
       "      <td>In</td>\n",
       "      <td>NBC</td>\n",
       "      <td>Lose</td>\n",
       "    </tr>\n",
       "    <tr>\n",
       "      <th>19</th>\n",
       "      <td>20</td>\n",
       "      <td>10/29/16</td>\n",
       "      <td>Miami Florida</td>\n",
       "      <td>Home</td>\n",
       "      <td>Out</td>\n",
       "      <td>NBC</td>\n",
       "      <td>Win</td>\n",
       "    </tr>\n",
       "    <tr>\n",
       "      <th>20</th>\n",
       "      <td>21</td>\n",
       "      <td>11/5/16</td>\n",
       "      <td>Navy</td>\n",
       "      <td>Home</td>\n",
       "      <td>Out</td>\n",
       "      <td>CBS</td>\n",
       "      <td>Lose</td>\n",
       "    </tr>\n",
       "    <tr>\n",
       "      <th>21</th>\n",
       "      <td>22</td>\n",
       "      <td>11/12/16</td>\n",
       "      <td>Army</td>\n",
       "      <td>Home</td>\n",
       "      <td>Out</td>\n",
       "      <td>NBC</td>\n",
       "      <td>Win</td>\n",
       "    </tr>\n",
       "    <tr>\n",
       "      <th>22</th>\n",
       "      <td>23</td>\n",
       "      <td>11/19/16</td>\n",
       "      <td>Virginia Tech</td>\n",
       "      <td>Home</td>\n",
       "      <td>In</td>\n",
       "      <td>NBC</td>\n",
       "      <td>Lose</td>\n",
       "    </tr>\n",
       "    <tr>\n",
       "      <th>23</th>\n",
       "      <td>24</td>\n",
       "      <td>11/26/16</td>\n",
       "      <td>USC</td>\n",
       "      <td>Away</td>\n",
       "      <td>In</td>\n",
       "      <td>ABC</td>\n",
       "      <td>Lose</td>\n",
       "    </tr>\n",
       "  </tbody>\n",
       "</table>\n",
       "</div>"
      ],
      "text/plain": [
       "    ID      Date              Opponent Is_Home_or_Away  \\\n",
       "0    1    9/5/15                 Texas            Home   \n",
       "1    2   9/12/15              Virginia            Away   \n",
       "2    3   9/19/15          Georgia Tech            Home   \n",
       "3    4   9/26/15                 UMass            Home   \n",
       "4    5   10/3/15               Clemson            Away   \n",
       "5    6  10/10/15                  Navy            Home   \n",
       "6    7  10/17/15                   USC            Home   \n",
       "7    8  10/31/15                Temple            Away   \n",
       "8    9   11/7/15                  PITT            Away   \n",
       "9   10  11/14/15           Wake Forest            Home   \n",
       "10  11  11/21/15        Boston College            Away   \n",
       "11  12  11/28/15              Stanford            Away   \n",
       "12  13    9/4/16                 Texas            Away   \n",
       "13  14   9/10/16                Nevada            Home   \n",
       "14  15   9/17/16        Michigan State            Home   \n",
       "15  16   9/24/16                  Duke            Home   \n",
       "16  17   10/1/16              Syracuse            Home   \n",
       "17  18   10/8/16  North Carolina State            Away   \n",
       "18  19  10/15/16              Stanford            Home   \n",
       "19  20  10/29/16         Miami Florida            Home   \n",
       "20  21   11/5/16                  Navy            Home   \n",
       "21  22  11/12/16                  Army            Home   \n",
       "22  23  11/19/16         Virginia Tech            Home   \n",
       "23  24  11/26/16                   USC            Away   \n",
       "\n",
       "   Is_Opponent_in_AP25_Preseason Media Label  \n",
       "0                            Out   NBC   Win  \n",
       "1                            Out   ABC   Win  \n",
       "2                             In   NBC   Win  \n",
       "3                            Out   NBC   Win  \n",
       "4                             In   ABC  Lose  \n",
       "5                            Out   NBC   Win  \n",
       "6                             In   NBC   Win  \n",
       "7                            Out   ABC   Win  \n",
       "8                            Out   ABC   Win  \n",
       "9                            Out   NBC   Win  \n",
       "10                           Out   NBC   Win  \n",
       "11                            In   FOX  Lose  \n",
       "12                           Out   ABC  Lose  \n",
       "13                           Out   NBC   Win  \n",
       "14                           Out   NBC  Lose  \n",
       "15                           Out   NBC  Lose  \n",
       "16                           Out  ESPN   Win  \n",
       "17                           Out   ABC  Lose  \n",
       "18                            In   NBC  Lose  \n",
       "19                           Out   NBC   Win  \n",
       "20                           Out   CBS  Lose  \n",
       "21                           Out   NBC   Win  \n",
       "22                            In   NBC  Lose  \n",
       "23                            In   ABC  Lose  "
      ]
     },
     "execution_count": 1,
     "metadata": {},
     "output_type": "execute_result"
    }
   ],
   "source": [
    "import pandas as pd\n",
    "dfTrain = pd.read_csv(\"../datasets/dataset-football/dataset-football-train.txt\", delimiter='\\t')\n",
    "dfTrain"
   ]
  },
  {
   "cell_type": "markdown",
   "metadata": {},
   "source": [
    "### 0.2. Load test data from file"
   ]
  },
  {
   "cell_type": "code",
   "execution_count": 2,
   "metadata": {},
   "outputs": [
    {
     "data": {
      "text/html": [
       "<div>\n",
       "<style scoped>\n",
       "    .dataframe tbody tr th:only-of-type {\n",
       "        vertical-align: middle;\n",
       "    }\n",
       "\n",
       "    .dataframe tbody tr th {\n",
       "        vertical-align: top;\n",
       "    }\n",
       "\n",
       "    .dataframe thead th {\n",
       "        text-align: right;\n",
       "    }\n",
       "</style>\n",
       "<table border=\"1\" class=\"dataframe\">\n",
       "  <thead>\n",
       "    <tr style=\"text-align: right;\">\n",
       "      <th></th>\n",
       "      <th>ID</th>\n",
       "      <th>Date</th>\n",
       "      <th>Opponent</th>\n",
       "      <th>Is_Home_or_Away</th>\n",
       "      <th>Is_Opponent_in_AP25_Preseason</th>\n",
       "      <th>Media</th>\n",
       "      <th>Label</th>\n",
       "    </tr>\n",
       "  </thead>\n",
       "  <tbody>\n",
       "    <tr>\n",
       "      <th>0</th>\n",
       "      <td>25</td>\n",
       "      <td>9/2/17</td>\n",
       "      <td>Temple</td>\n",
       "      <td>Home</td>\n",
       "      <td>Out</td>\n",
       "      <td>NBC</td>\n",
       "      <td>Win</td>\n",
       "    </tr>\n",
       "    <tr>\n",
       "      <th>1</th>\n",
       "      <td>26</td>\n",
       "      <td>9/9/17</td>\n",
       "      <td>Georgia</td>\n",
       "      <td>Home</td>\n",
       "      <td>In</td>\n",
       "      <td>NBC</td>\n",
       "      <td>Lose</td>\n",
       "    </tr>\n",
       "    <tr>\n",
       "      <th>2</th>\n",
       "      <td>27</td>\n",
       "      <td>9/16/17</td>\n",
       "      <td>Boston College</td>\n",
       "      <td>Away</td>\n",
       "      <td>Out</td>\n",
       "      <td>ESPN</td>\n",
       "      <td>Win</td>\n",
       "    </tr>\n",
       "    <tr>\n",
       "      <th>3</th>\n",
       "      <td>28</td>\n",
       "      <td>9/23/17</td>\n",
       "      <td>Michigan State</td>\n",
       "      <td>Away</td>\n",
       "      <td>Out</td>\n",
       "      <td>FOX</td>\n",
       "      <td>Win</td>\n",
       "    </tr>\n",
       "    <tr>\n",
       "      <th>4</th>\n",
       "      <td>29</td>\n",
       "      <td>9/30/17</td>\n",
       "      <td>Miami Ohio</td>\n",
       "      <td>Home</td>\n",
       "      <td>Out</td>\n",
       "      <td>NBC</td>\n",
       "      <td>Win</td>\n",
       "    </tr>\n",
       "    <tr>\n",
       "      <th>5</th>\n",
       "      <td>30</td>\n",
       "      <td>10/7/17</td>\n",
       "      <td>North Carolina</td>\n",
       "      <td>Away</td>\n",
       "      <td>Out</td>\n",
       "      <td>ABC</td>\n",
       "      <td>Win</td>\n",
       "    </tr>\n",
       "    <tr>\n",
       "      <th>6</th>\n",
       "      <td>31</td>\n",
       "      <td>10/21/17</td>\n",
       "      <td>USC</td>\n",
       "      <td>Home</td>\n",
       "      <td>In</td>\n",
       "      <td>NBC</td>\n",
       "      <td>Win</td>\n",
       "    </tr>\n",
       "    <tr>\n",
       "      <th>7</th>\n",
       "      <td>32</td>\n",
       "      <td>10/28/17</td>\n",
       "      <td>North Carolina State</td>\n",
       "      <td>Home</td>\n",
       "      <td>Out</td>\n",
       "      <td>NBC</td>\n",
       "      <td>Win</td>\n",
       "    </tr>\n",
       "    <tr>\n",
       "      <th>8</th>\n",
       "      <td>33</td>\n",
       "      <td>11/4/17</td>\n",
       "      <td>Wake Forest</td>\n",
       "      <td>Home</td>\n",
       "      <td>Out</td>\n",
       "      <td>NBC</td>\n",
       "      <td>Win</td>\n",
       "    </tr>\n",
       "    <tr>\n",
       "      <th>9</th>\n",
       "      <td>34</td>\n",
       "      <td>11/11/17</td>\n",
       "      <td>Miami Florida</td>\n",
       "      <td>Away</td>\n",
       "      <td>In</td>\n",
       "      <td>ABC</td>\n",
       "      <td>Lose</td>\n",
       "    </tr>\n",
       "    <tr>\n",
       "      <th>10</th>\n",
       "      <td>35</td>\n",
       "      <td>11/18/17</td>\n",
       "      <td>Navy</td>\n",
       "      <td>Home</td>\n",
       "      <td>Out</td>\n",
       "      <td>NBC</td>\n",
       "      <td>Win</td>\n",
       "    </tr>\n",
       "    <tr>\n",
       "      <th>11</th>\n",
       "      <td>36</td>\n",
       "      <td>11/25/17</td>\n",
       "      <td>Stanford</td>\n",
       "      <td>Away</td>\n",
       "      <td>In</td>\n",
       "      <td>ABC</td>\n",
       "      <td>Lose</td>\n",
       "    </tr>\n",
       "  </tbody>\n",
       "</table>\n",
       "</div>"
      ],
      "text/plain": [
       "    ID      Date              Opponent Is_Home_or_Away  \\\n",
       "0   25    9/2/17                Temple            Home   \n",
       "1   26    9/9/17               Georgia            Home   \n",
       "2   27   9/16/17        Boston College            Away   \n",
       "3   28   9/23/17        Michigan State            Away   \n",
       "4   29   9/30/17            Miami Ohio            Home   \n",
       "5   30   10/7/17        North Carolina            Away   \n",
       "6   31  10/21/17                   USC            Home   \n",
       "7   32  10/28/17  North Carolina State            Home   \n",
       "8   33   11/4/17           Wake Forest            Home   \n",
       "9   34  11/11/17         Miami Florida            Away   \n",
       "10  35  11/18/17                  Navy            Home   \n",
       "11  36  11/25/17              Stanford            Away   \n",
       "\n",
       "   Is_Opponent_in_AP25_Preseason Media Label  \n",
       "0                            Out   NBC   Win  \n",
       "1                             In   NBC  Lose  \n",
       "2                            Out  ESPN   Win  \n",
       "3                            Out   FOX   Win  \n",
       "4                            Out   NBC   Win  \n",
       "5                            Out   ABC   Win  \n",
       "6                             In   NBC   Win  \n",
       "7                            Out   NBC   Win  \n",
       "8                            Out   NBC   Win  \n",
       "9                             In   ABC  Lose  \n",
       "10                           Out   NBC   Win  \n",
       "11                            In   ABC  Lose  "
      ]
     },
     "execution_count": 2,
     "metadata": {},
     "output_type": "execute_result"
    }
   ],
   "source": [
    "dfTest = pd.read_csv(\"../datasets/dataset-football/dataset-football-test.txt\", delimiter='\\t')\n",
    "dfTest"
   ]
  },
  {
   "cell_type": "markdown",
   "metadata": {},
   "source": [
    "### 0.3. Find feature names"
   ]
  },
  {
   "cell_type": "code",
   "execution_count": 3,
   "metadata": {},
   "outputs": [
    {
     "name": "stdout",
     "output_type": "stream",
     "text": [
      "Number of features: 3\n"
     ]
    },
    {
     "data": {
      "text/plain": [
       "Index(['Is_Home_or_Away', 'Is_Opponent_in_AP25_Preseason', 'Media'], dtype='object')"
      ]
     },
     "execution_count": 3,
     "metadata": {},
     "output_type": "execute_result"
    }
   ],
   "source": [
    "featureNames = dfTrain.columns[3:-1] # Skip \"ID\", \"Date\", \"Opponent\"; and \"Label\"\n",
    "nFeatures = featureNames.shape[0]\n",
    "print(\"Number of features:\", nFeatures)\n",
    "featureNames"
   ]
  },
  {
   "cell_type": "markdown",
   "metadata": {},
   "source": [
    "### 0.4. Select training instances (feature values and label) from training data"
   ]
  },
  {
   "cell_type": "code",
   "execution_count": 4,
   "metadata": {},
   "outputs": [
    {
     "name": "stdout",
     "output_type": "stream",
     "text": [
      "Number of training instances: 24\n"
     ]
    },
    {
     "data": {
      "text/plain": [
       "[[['Home', 'Out', 'NBC'], 'Win'],\n",
       " [['Away', 'Out', 'ABC'], 'Win'],\n",
       " [['Home', 'In', 'NBC'], 'Win'],\n",
       " [['Home', 'Out', 'NBC'], 'Win'],\n",
       " [['Away', 'In', 'ABC'], 'Lose'],\n",
       " [['Home', 'Out', 'NBC'], 'Win'],\n",
       " [['Home', 'In', 'NBC'], 'Win'],\n",
       " [['Away', 'Out', 'ABC'], 'Win'],\n",
       " [['Away', 'Out', 'ABC'], 'Win'],\n",
       " [['Home', 'Out', 'NBC'], 'Win'],\n",
       " [['Away', 'Out', 'NBC'], 'Win'],\n",
       " [['Away', 'In', 'FOX'], 'Lose'],\n",
       " [['Away', 'Out', 'ABC'], 'Lose'],\n",
       " [['Home', 'Out', 'NBC'], 'Win'],\n",
       " [['Home', 'Out', 'NBC'], 'Lose'],\n",
       " [['Home', 'Out', 'NBC'], 'Lose'],\n",
       " [['Home', 'Out', 'ESPN'], 'Win'],\n",
       " [['Away', 'Out', 'ABC'], 'Lose'],\n",
       " [['Home', 'In', 'NBC'], 'Lose'],\n",
       " [['Home', 'Out', 'NBC'], 'Win'],\n",
       " [['Home', 'Out', 'CBS'], 'Lose'],\n",
       " [['Home', 'Out', 'NBC'], 'Win'],\n",
       " [['Home', 'In', 'NBC'], 'Lose'],\n",
       " [['Away', 'In', 'ABC'], 'Lose']]"
      ]
     },
     "execution_count": 4,
     "metadata": {},
     "output_type": "execute_result"
    }
   ],
   "source": [
    "trainingInstances = []\n",
    "for instance in dfTrain.to_numpy():\n",
    "    featureValues = list(instance[3:-1])\n",
    "    label = instance[-1]\n",
    "    trainingInstances.append([featureValues,label])\n",
    "nTrainingInstances = len(trainingInstances)\n",
    "print(\"Number of training instances:\", nTrainingInstances)\n",
    "trainingInstances"
   ]
  },
  {
   "cell_type": "markdown",
   "metadata": {},
   "source": [
    "### 0.5. Select test instances from test data"
   ]
  },
  {
   "cell_type": "code",
   "execution_count": 5,
   "metadata": {},
   "outputs": [
    {
     "name": "stdout",
     "output_type": "stream",
     "text": [
      "Number of test instances: 12\n"
     ]
    },
    {
     "data": {
      "text/plain": [
       "[[['Home', 'Out', 'NBC'], 'Win'],\n",
       " [['Home', 'In', 'NBC'], 'Lose'],\n",
       " [['Away', 'Out', 'ESPN'], 'Win'],\n",
       " [['Away', 'Out', 'FOX'], 'Win'],\n",
       " [['Home', 'Out', 'NBC'], 'Win'],\n",
       " [['Away', 'Out', 'ABC'], 'Win'],\n",
       " [['Home', 'In', 'NBC'], 'Win'],\n",
       " [['Home', 'Out', 'NBC'], 'Win'],\n",
       " [['Home', 'Out', 'NBC'], 'Win'],\n",
       " [['Away', 'In', 'ABC'], 'Lose'],\n",
       " [['Home', 'Out', 'NBC'], 'Win'],\n",
       " [['Away', 'In', 'ABC'], 'Lose']]"
      ]
     },
     "execution_count": 5,
     "metadata": {},
     "output_type": "execute_result"
    }
   ],
   "source": [
    "testInstances = []\n",
    "for instance in dfTest.to_numpy():\n",
    "    featureValues = list(instance[3:-1])\n",
    "    label = instance[-1]\n",
    "    testInstances.append([featureValues,label])\n",
    "nTestInstances = len(testInstances)\n",
    "print(\"Number of test instances:\", nTestInstances)\n",
    "testInstances"
   ]
  },
  {
   "cell_type": "markdown",
   "metadata": {},
   "source": [
    "## 1. ID3 model using Information Gain"
   ]
  },
  {
   "cell_type": "markdown",
   "metadata": {},
   "source": [
    "### 1.1. Define information entropy function by distribution of value frequencies"
   ]
  },
  {
   "cell_type": "code",
   "execution_count": 6,
   "metadata": {},
   "outputs": [
    {
     "name": "stdout",
     "output_type": "stream",
     "text": [
      "1.584962500721156\n",
      "0.0\n"
     ]
    }
   ],
   "source": [
    "import math\n",
    "import numpy as np\n",
    "\n",
    "# Examples:\n",
    "# Suppose distr_freq = [2, 2, 2]. Should return -1/3*log_2(1/3) * 3 = 1.585.\n",
    "# Suppose distr_freq = [6, 0, 0, 0, 0]. Should return 0.\n",
    "def Entropy(distr_freq):\n",
    "    \n",
    "    ret = 0.0\n",
    "    \n",
    "    tot = sum(x for x in distr_freq)\n",
    "    \n",
    "    ret = sum(-1 * ((x/tot) * np.log2(x/tot)) if x != 0 else 0 for x in distr_freq)\n",
    "\n",
    "    return ret\n",
    "\n",
    "print(Entropy([2, 2, 2]))\n",
    "print(Entropy([6, 0, 0, 0, 0]))\n"
   ]
  },
  {
   "cell_type": "markdown",
   "metadata": {},
   "source": [
    "### 1.2. Define Information Gain function by a set of instances and a particular feature"
   ]
  },
  {
   "cell_type": "code",
   "execution_count": 7,
   "metadata": {},
   "outputs": [
    {
     "data": {
      "text/plain": [
       "([17, 7], 0.10905534839567366)"
      ]
     },
     "execution_count": 7,
     "metadata": {},
     "output_type": "execute_result"
    }
   ],
   "source": [
    "# Given a set of instances [instanceIDs] at the node,\n",
    "# find the information gain if the node is split by the values of feature [featureID].\n",
    "def IG(instanceIDs, featureID):\n",
    "    \n",
    "    label2freq, value2label2freq = {}, {}\n",
    "    \n",
    "    for instanceID in instanceIDs:\n",
    "        featureValues, label = trainingInstances[instanceID]\n",
    "        \n",
    "        if not label in label2freq:\n",
    "            label2freq[label] = 0\n",
    "        label2freq[label] += 1\n",
    "        \n",
    "        featureValue = featureValues[featureID]\n",
    "        \n",
    "        if not featureValue in value2label2freq:\n",
    "            value2label2freq[featureValue] = {}\n",
    "        if not label in value2label2freq[featureValue]:\n",
    "            value2label2freq[featureValue][label] = 0\n",
    "        value2label2freq[featureValue][label] += 1\n",
    "        \n",
    "    N = len(instanceIDs)\n",
    "    \n",
    "    distr_freq = []\n",
    "    for label,freq in label2freq.items():\n",
    "        distr_freq.append(freq)\n",
    "    \n",
    "    #print(f'entropy: {distr_freq}')\n",
    "    # This is the information entropy at the node H(Y)\n",
    "    H_Y = Entropy(distr_freq)\n",
    "    \n",
    "    N = sum(distr_freq)\n",
    "    H_Y_cond_X = 0.0\n",
    "    totals = []\n",
    "    for value, label2freq in value2label2freq.items():\n",
    "        distr_freq = []\n",
    "        for label, freq in label2freq.items():\n",
    "            distr_freq.append(freq)\n",
    "        \n",
    "        totals.append(sum(distr_freq))\n",
    "        #print(f'value: {value}')\n",
    "        #print(f'Conditional: {distr_freq}')\n",
    "        # for each value of the feature [featureID],\n",
    "        # calculate the conditional entropy H(Y|X) at the child nodes (if the node is split by X)\n",
    "        \n",
    "        \n",
    "        \n",
    "        H_Y_cond_X += (sum(distr_freq)/N) * Entropy(distr_freq) \n",
    "    \n",
    "    return (totals, (H_Y - H_Y_cond_X))\n",
    "\n",
    "IG(set(range(nTrainingInstances)), 1)"
   ]
  },
  {
   "cell_type": "markdown",
   "metadata": {},
   "source": [
    "### 1.3. Define Gain Ratio function by a set of instances and a particular feature"
   ]
  },
  {
   "cell_type": "code",
   "execution_count": 8,
   "metadata": {},
   "outputs": [
    {
     "data": {
      "text/plain": [
       "0.1252265447130095"
      ]
     },
     "execution_count": 8,
     "metadata": {},
     "output_type": "execute_result"
    }
   ],
   "source": [
    "def GainRatio(instanceIDs, featureID):\n",
    "    \n",
    "    totals, ret = IG(instanceIDs, featureID)\n",
    "    if ret == 0: return ret\n",
    "    \n",
    "    # calculate the splitInfo to calculate Gain Ratio based on Information Gain\n",
    "    \n",
    "    splitInfo = Entropy(totals)\n",
    "    \n",
    "    return ret/splitInfo\n",
    "\n",
    "GainRatio(set(range(nTrainingInstances)), 1)"
   ]
  },
  {
   "cell_type": "markdown",
   "metadata": {},
   "source": [
    "### 1.4. Define a function (an iterative algorithm) to construct a decision tree"
   ]
  },
  {
   "cell_type": "markdown",
   "metadata": {},
   "source": [
    "A decision tree node has the following components:\n",
    "\n",
    "**instanceIDs**: the set of training instances on the node;\n",
    "    \n",
    "**featureIDs**: the set of available features for splitting; those that are not in this set have been used on the path from the root node to this node;\n",
    "    \n",
    "**level**: the node is at which level of the tree; 0 is for root node;\n",
    "    \n",
    "**subTree**: its child nodes (sub-trees) formed by the best feature;\n",
    "    \n",
    "**bestFeatureID**: the best feature for splitting into child nodes;\n",
    "    \n",
    "**majorityLabel**: the decision on this node (the most frequent label of the instances on this node);\n",
    "    \n",
    "**parentMajorityLabel**: the decision on this node's parent."
   ]
  },
  {
   "cell_type": "code",
   "execution_count": 9,
   "metadata": {},
   "outputs": [],
   "source": [
    "def ConstructDecisionTree(tree, modelName):\n",
    "\n",
    "    instanceIDs, featureIDs, level, _, _, _, parentMajorityLabel = tree\n",
    "\n",
    "    # Calculate the distribution of label frequencies on this node\n",
    "    label2freq = {}\n",
    "    for instanceID in instanceIDs:\n",
    "        label = trainingInstances[instanceID][1]\n",
    "        if not label in label2freq:\n",
    "            label2freq[label] = 0\n",
    "        label2freq[label] += 1\n",
    "    # Sort the label frequencies from the highest to lowest\n",
    "    label_freq = sorted(label2freq.items(), key=lambda x:-x[1])\n",
    "    \n",
    "    # Determine the decision on this node\n",
    "    majorityLabel = label_freq[0][0]\n",
    "    # When there are multiple labels that have the highest frequency - use the decision on the parent node.\n",
    "    if len(label_freq) > 1 and label_freq[0][1] == label_freq[1][1]:\n",
    "        majorityLabel = parentMajorityLabel\n",
    "    # Set the [majorityLabel]\n",
    "    tree[5] = majorityLabel\n",
    "    print(\" \"*level, \"Decision:\", majorityLabel, \"<--\", label_freq)\n",
    "    \n",
    "    if len(label_freq) == 1: return\n",
    "    if len(featureIDs) == 0: return\n",
    "\n",
    "    # Calculate the score of splitting criterion\n",
    "    # for each feature [featureID]\n",
    "    featureID2criterionScore = {}\n",
    "    for featureID in featureIDs:\n",
    "        if modelName == \"ID3\":\n",
    "            totals, criterionScore = IG(instanceIDs, featureID)\n",
    "        elif modelName == \"C4.5\":\n",
    "            criterionScore = GainRatio(instanceIDs, featureID)\n",
    "            pass\n",
    "        featureID2criterionScore[featureID] = criterionScore\n",
    "    # Sort the feature's criterion score from the highest to lowest\n",
    "    featureID_criterionScore = sorted(featureID2criterionScore.items(), key=lambda x:-x[1])\n",
    "    \n",
    "    # Find the best feature and the best criterion score\n",
    "    bestFeatureID = featureID_criterionScore[0][0]\n",
    "    bestCriterionScore = featureID_criterionScore[0][1]\n",
    "    \n",
    "    # Terminate when there is not effective feature\n",
    "    if bestCriterionScore == 0.0: return\n",
    "    \n",
    "    tree[4] = bestFeatureID\n",
    "\n",
    "    # Remove the best feature from feature candidates for the sub-trees\n",
    "    subFeatureIDs = set()\n",
    "    for featureID in featureIDs:\n",
    "        if featureID == bestFeatureID: continue\n",
    "        subFeatureIDs.add(featureID)\n",
    "    \n",
    "    # Go to the next level: Splitting the node into child nodes (i.e., sub-trees)\n",
    "    level += 1\n",
    "    value2subInstanceIDs = {}\n",
    "    for instanceID in instanceIDs:\n",
    "        value = trainingInstances[instanceID][0][bestFeatureID]\n",
    "        if not value in value2subInstanceIDs:\n",
    "            value2subInstanceIDs[value] = set()\n",
    "        value2subInstanceIDs[value].add(instanceID)\n",
    "        \n",
    "    for value,subInstanceIDs in value2subInstanceIDs.items():\n",
    "        tree[3][value] = [subInstanceIDs, subFeatureIDs, level, {}, None, None, majorityLabel]\n",
    "        print(\" \"*level, \"Level\", level, \"=>\", featureNames[bestFeatureID], \":\", value,\n",
    "              \"( criterion:\", np.round(bestCriterionScore, 4), \")\")\n",
    "        ConstructDecisionTree(tree[3][value], modelName)"
   ]
  },
  {
   "cell_type": "markdown",
   "metadata": {},
   "source": [
    "### 1.5. Construct an ID3 tree from the root node"
   ]
  },
  {
   "cell_type": "code",
   "execution_count": 10,
   "metadata": {},
   "outputs": [
    {
     "name": "stdout",
     "output_type": "stream",
     "text": [
      "Level 0\n",
      " Decision: Win <-- [('Win', 14), ('Lose', 10)]\n",
      "  Level 1 => Media : NBC ( criterion: 0.189 )\n",
      "  Decision: Win <-- [('Win', 10), ('Lose', 4)]\n",
      "   Level 2 => Is_Opponent_in_AP25_Preseason : Out ( criterion: 0.0617 )\n",
      "   Decision: Win <-- [('Win', 8), ('Lose', 2)]\n",
      "    Level 3 => Is_Home_or_Away : Home ( criterion: 0.0341 )\n",
      "    Decision: Win <-- [('Win', 7), ('Lose', 2)]\n",
      "    Level 3 => Is_Home_or_Away : Away ( criterion: 0.0341 )\n",
      "    Decision: Win <-- [('Win', 1)]\n",
      "   Level 2 => Is_Opponent_in_AP25_Preseason : In ( criterion: 0.0617 )\n",
      "   Decision: Win <-- [('Win', 2), ('Lose', 2)]\n",
      "  Level 1 => Media : ABC ( criterion: 0.189 )\n",
      "  Decision: Lose <-- [('Lose', 4), ('Win', 3)]\n",
      "   Level 2 => Is_Opponent_in_AP25_Preseason : Out ( criterion: 0.2917 )\n",
      "   Decision: Win <-- [('Win', 3), ('Lose', 2)]\n",
      "   Level 2 => Is_Opponent_in_AP25_Preseason : In ( criterion: 0.2917 )\n",
      "   Decision: Lose <-- [('Lose', 2)]\n",
      "  Level 1 => Media : FOX ( criterion: 0.189 )\n",
      "  Decision: Lose <-- [('Lose', 1)]\n",
      "  Level 1 => Media : ESPN ( criterion: 0.189 )\n",
      "  Decision: Win <-- [('Win', 1)]\n",
      "  Level 1 => Media : CBS ( criterion: 0.189 )\n",
      "  Decision: Lose <-- [('Lose', 1)]\n"
     ]
    }
   ],
   "source": [
    "tree = [set(range(nTrainingInstances)), set(range(nFeatures)), 0, {}, None, None, None]\n",
    "print(\"Level\", 0)\n",
    "ConstructDecisionTree(tree, \"ID3\")"
   ]
  },
  {
   "cell_type": "markdown",
   "metadata": {},
   "source": [
    "### 1.6. Define a function to traverse the decision tree"
   ]
  },
  {
   "cell_type": "code",
   "execution_count": 11,
   "metadata": {},
   "outputs": [],
   "source": [
    "def Traverse(tree):\n",
    "    \n",
    "    instanceIDs, featureIDs, level, subTree, bestFeatureID, majorityLabel, parentMajorityLabel = tree\n",
    "    print(\"\\t\"*level, \"Level\", level, \"(\", majorityLabel, \")\")\n",
    "    \n",
    "    if tree[4] == None: return\n",
    "    \n",
    "    print(\"\\t\"*level, featureNames[bestFeatureID], \":\")\n",
    "    \n",
    "    for value, branch in sorted(subTree.items(), key=lambda x:x[0]):\n",
    "        print(\"\\t\"*level, value)\n",
    "        Traverse(branch)"
   ]
  },
  {
   "cell_type": "markdown",
   "metadata": {},
   "source": [
    "### 1.7. Traverse the ID3 tree from the root node"
   ]
  },
  {
   "cell_type": "code",
   "execution_count": 12,
   "metadata": {},
   "outputs": [
    {
     "name": "stdout",
     "output_type": "stream",
     "text": [
      " Level 0 ( Win )\n",
      " Media :\n",
      " ABC\n",
      "\t Level 1 ( Lose )\n",
      "\t Is_Opponent_in_AP25_Preseason :\n",
      "\t In\n",
      "\t\t Level 2 ( Lose )\n",
      "\t Out\n",
      "\t\t Level 2 ( Win )\n",
      " CBS\n",
      "\t Level 1 ( Lose )\n",
      " ESPN\n",
      "\t Level 1 ( Win )\n",
      " FOX\n",
      "\t Level 1 ( Lose )\n",
      " NBC\n",
      "\t Level 1 ( Win )\n",
      "\t Is_Opponent_in_AP25_Preseason :\n",
      "\t In\n",
      "\t\t Level 2 ( Win )\n",
      "\t Out\n",
      "\t\t Level 2 ( Win )\n",
      "\t\t Is_Home_or_Away :\n",
      "\t\t Away\n",
      "\t\t\t Level 3 ( Win )\n",
      "\t\t Home\n",
      "\t\t\t Level 3 ( Win )\n"
     ]
    }
   ],
   "source": [
    "Traverse(tree)"
   ]
  },
  {
   "cell_type": "markdown",
   "metadata": {},
   "source": [
    "### 1.8. Define a function to predict the label based on features using the decision tree"
   ]
  },
  {
   "cell_type": "code",
   "execution_count": 13,
   "metadata": {},
   "outputs": [],
   "source": [
    "def Predict(tree, featureValues):\n",
    "    \n",
    "    instanceIDs, featureIDs, level, subTree, bestFeatureID, majorityLabel, parentMajorityLabel = tree\n",
    "    if tree[4] == None: return majorityLabel\n",
    "    \n",
    "    value = featureValues[bestFeatureID]\n",
    "    \n",
    "    if not value in subTree: return majorityLabel\n",
    "    return Predict(subTree[value], featureValues)"
   ]
  },
  {
   "cell_type": "markdown",
   "metadata": {},
   "source": [
    "### 1.9. Define a function to make prediction for each test instance in the set and calculate the Confusion Matrix"
   ]
  },
  {
   "cell_type": "code",
   "execution_count": 14,
   "metadata": {},
   "outputs": [],
   "source": [
    "def GetConfusionMatrix(testInstances):\n",
    "    \n",
    "    TP, FP, TN, FN = 0, 0, 0, 0\n",
    "\n",
    "    for featureValues, truthLabel in testInstances:\n",
    "\n",
    "        predictLabel = Predict(tree, featureValues)\n",
    "\n",
    "        print(featureValues, \"Actual label:\", truthLabel, \"| Predicted label:\", predictLabel)\n",
    "\n",
    "        ### TODO 6: ###\n",
    "        if predictLabel == 'Win' and truthLabel == 'Win': TP += 1\n",
    "        if predictLabel == 'Win' and truthLabel == 'Lose': FP += 1\n",
    "        if predictLabel == 'Lose' and truthLabel == 'Win': FN += 1\n",
    "        if predictLabel == 'Lose' and truthLabel == 'Lose': TN += 1\n",
    "        \n",
    "    return TP, FP, TN, FN"
   ]
  },
  {
   "cell_type": "markdown",
   "metadata": {},
   "source": [
    "### 1.10. Make prediction with ID3 and find the Confusion Matrix"
   ]
  },
  {
   "cell_type": "code",
   "execution_count": 15,
   "metadata": {
    "scrolled": true
   },
   "outputs": [
    {
     "name": "stdout",
     "output_type": "stream",
     "text": [
      "['Home', 'Out', 'NBC'] Actual label: Win | Predicted label: Win\n",
      "['Home', 'In', 'NBC'] Actual label: Lose | Predicted label: Win\n",
      "['Away', 'Out', 'ESPN'] Actual label: Win | Predicted label: Win\n",
      "['Away', 'Out', 'FOX'] Actual label: Win | Predicted label: Lose\n",
      "['Home', 'Out', 'NBC'] Actual label: Win | Predicted label: Win\n",
      "['Away', 'Out', 'ABC'] Actual label: Win | Predicted label: Win\n",
      "['Home', 'In', 'NBC'] Actual label: Win | Predicted label: Win\n",
      "['Home', 'Out', 'NBC'] Actual label: Win | Predicted label: Win\n",
      "['Home', 'Out', 'NBC'] Actual label: Win | Predicted label: Win\n",
      "['Away', 'In', 'ABC'] Actual label: Lose | Predicted label: Lose\n",
      "['Home', 'Out', 'NBC'] Actual label: Win | Predicted label: Win\n",
      "['Away', 'In', 'ABC'] Actual label: Lose | Predicted label: Lose\n"
     ]
    }
   ],
   "source": [
    "TP, FP, TN, FN = GetConfusionMatrix(testInstances)"
   ]
  },
  {
   "cell_type": "markdown",
   "metadata": {},
   "source": [
    "### 1.11. Define a function to calcualte Accuracy, Precision, Recall, and F1 score based on the Confusion Matrix"
   ]
  },
  {
   "cell_type": "code",
   "execution_count": 16,
   "metadata": {},
   "outputs": [],
   "source": [
    "def GetMetrics(TP, FP, TN, FN):\n",
    "    print(\"Confusion matrix:\")\n",
    "    print(\"\\t\", \"-\"*15)\n",
    "    print(\"\\t\", \"| TP\", TP, \"| FN\", FN, \"|\")\n",
    "    print(\"\\t\", \"| FP\", FP, \"| TN\", TN, \"|\")\n",
    "    print(\"\\t\", \"-\"*15)\n",
    "\n",
    "    accuracy = 1.0*(TP+TN) / nTestInstances\n",
    "    precision = TP / (TP+FP)\n",
    "    recall = TP / (TP + FN)\n",
    "    f1 = (2 * precision * recall) / (precision + recall)\n",
    "\n",
    "    print(\"Accuracy:\", np.round(accuracy, 4))\n",
    "    print(\"Precision:\", np.round(precision, 4))\n",
    "    print(\"Recall:\", np.round(recall, 4))\n",
    "    print(\"F1:\", np.round(f1, 4))"
   ]
  },
  {
   "cell_type": "markdown",
   "metadata": {},
   "source": [
    "### 1.12. Calculate Accuracy, Precision, Recall, and F1 score"
   ]
  },
  {
   "cell_type": "code",
   "execution_count": 17,
   "metadata": {},
   "outputs": [
    {
     "name": "stdout",
     "output_type": "stream",
     "text": [
      "Confusion matrix:\n",
      "\t ---------------\n",
      "\t | TP 8 | FN 1 |\n",
      "\t | FP 1 | TN 2 |\n",
      "\t ---------------\n",
      "Accuracy: 0.8333\n",
      "Precision: 0.8889\n",
      "Recall: 0.8889\n",
      "F1: 0.8889\n"
     ]
    }
   ],
   "source": [
    "GetMetrics(TP, FP, TN, FN)"
   ]
  },
  {
   "cell_type": "markdown",
   "metadata": {},
   "source": [
    "## 2. C4.5 model using Gain Ratio"
   ]
  },
  {
   "cell_type": "markdown",
   "metadata": {},
   "source": [
    "### 2.1. Construct a C4.5 tree from the root node"
   ]
  },
  {
   "cell_type": "code",
   "execution_count": 18,
   "metadata": {},
   "outputs": [
    {
     "name": "stdout",
     "output_type": "stream",
     "text": [
      "Level 0\n",
      " Decision: Win <-- [('Win', 14), ('Lose', 10)]\n",
      "  Level 1 => Is_Opponent_in_AP25_Preseason : Out ( criterion: 0.1252 )\n",
      "  Decision: Win <-- [('Win', 12), ('Lose', 5)]\n",
      "   Level 2 => Media : NBC ( criterion: 0.1129 )\n",
      "   Decision: Win <-- [('Win', 8), ('Lose', 2)]\n",
      "    Level 3 => Is_Home_or_Away : Home ( criterion: 0.0728 )\n",
      "    Decision: Win <-- [('Win', 7), ('Lose', 2)]\n",
      "    Level 3 => Is_Home_or_Away : Away ( criterion: 0.0728 )\n",
      "    Decision: Win <-- [('Win', 1)]\n",
      "   Level 2 => Media : ABC ( criterion: 0.1129 )\n",
      "   Decision: Win <-- [('Win', 3), ('Lose', 2)]\n",
      "   Level 2 => Media : ESPN ( criterion: 0.1129 )\n",
      "   Decision: Win <-- [('Win', 1)]\n",
      "   Level 2 => Media : CBS ( criterion: 0.1129 )\n",
      "   Decision: Lose <-- [('Lose', 1)]\n",
      "  Level 1 => Is_Opponent_in_AP25_Preseason : In ( criterion: 0.1252 )\n",
      "  Decision: Lose <-- [('Lose', 5), ('Win', 2)]\n",
      "   Level 2 => Is_Home_or_Away : Home ( criterion: 0.2961 )\n",
      "   Decision: Lose <-- [('Win', 2), ('Lose', 2)]\n",
      "   Level 2 => Is_Home_or_Away : Away ( criterion: 0.2961 )\n",
      "   Decision: Lose <-- [('Lose', 3)]\n"
     ]
    }
   ],
   "source": [
    "tree = [set(range(nTrainingInstances)), set(range(nFeatures)), 0, {}, None, None, None]\n",
    "print(\"Level\", 0)\n",
    "ConstructDecisionTree(tree, \"C4.5\")"
   ]
  },
  {
   "cell_type": "markdown",
   "metadata": {},
   "source": [
    "### 2.2. Traverse the C4.5 tree from the root node"
   ]
  },
  {
   "cell_type": "code",
   "execution_count": 19,
   "metadata": {},
   "outputs": [
    {
     "name": "stdout",
     "output_type": "stream",
     "text": [
      " Level 0 ( Win )\n",
      " Is_Opponent_in_AP25_Preseason :\n",
      " In\n",
      "\t Level 1 ( Lose )\n",
      "\t Is_Home_or_Away :\n",
      "\t Away\n",
      "\t\t Level 2 ( Lose )\n",
      "\t Home\n",
      "\t\t Level 2 ( Lose )\n",
      " Out\n",
      "\t Level 1 ( Win )\n",
      "\t Media :\n",
      "\t ABC\n",
      "\t\t Level 2 ( Win )\n",
      "\t CBS\n",
      "\t\t Level 2 ( Lose )\n",
      "\t ESPN\n",
      "\t\t Level 2 ( Win )\n",
      "\t NBC\n",
      "\t\t Level 2 ( Win )\n",
      "\t\t Is_Home_or_Away :\n",
      "\t\t Away\n",
      "\t\t\t Level 3 ( Win )\n",
      "\t\t Home\n",
      "\t\t\t Level 3 ( Win )\n"
     ]
    }
   ],
   "source": [
    "Traverse(tree)"
   ]
  },
  {
   "cell_type": "markdown",
   "metadata": {},
   "source": [
    "### 2.3. Make prediction with C4.5 and find the Confusion Matrix"
   ]
  },
  {
   "cell_type": "code",
   "execution_count": 20,
   "metadata": {},
   "outputs": [
    {
     "name": "stdout",
     "output_type": "stream",
     "text": [
      "['Home', 'Out', 'NBC'] Actual label: Win | Predicted label: Win\n",
      "['Home', 'In', 'NBC'] Actual label: Lose | Predicted label: Lose\n",
      "['Away', 'Out', 'ESPN'] Actual label: Win | Predicted label: Win\n",
      "['Away', 'Out', 'FOX'] Actual label: Win | Predicted label: Win\n",
      "['Home', 'Out', 'NBC'] Actual label: Win | Predicted label: Win\n",
      "['Away', 'Out', 'ABC'] Actual label: Win | Predicted label: Win\n",
      "['Home', 'In', 'NBC'] Actual label: Win | Predicted label: Lose\n",
      "['Home', 'Out', 'NBC'] Actual label: Win | Predicted label: Win\n",
      "['Home', 'Out', 'NBC'] Actual label: Win | Predicted label: Win\n",
      "['Away', 'In', 'ABC'] Actual label: Lose | Predicted label: Lose\n",
      "['Home', 'Out', 'NBC'] Actual label: Win | Predicted label: Win\n",
      "['Away', 'In', 'ABC'] Actual label: Lose | Predicted label: Lose\n"
     ]
    }
   ],
   "source": [
    "TP, FP, TN, FN = GetConfusionMatrix(testInstances)"
   ]
  },
  {
   "cell_type": "markdown",
   "metadata": {},
   "source": [
    "### 2.4. Calculate Accuracy, Precision, Recall, and F1 score"
   ]
  },
  {
   "cell_type": "code",
   "execution_count": 21,
   "metadata": {},
   "outputs": [
    {
     "name": "stdout",
     "output_type": "stream",
     "text": [
      "Confusion matrix:\n",
      "\t ---------------\n",
      "\t | TP 8 | FN 1 |\n",
      "\t | FP 0 | TN 3 |\n",
      "\t ---------------\n",
      "Accuracy: 0.9167\n",
      "Precision: 1.0\n",
      "Recall: 0.8889\n",
      "F1: 0.9412\n"
     ]
    }
   ],
   "source": [
    "GetMetrics(TP, FP, TN, FN)"
   ]
  },
  {
   "cell_type": "markdown",
   "metadata": {},
   "source": [
    "## 3. Naive Bayes with NO zero correction"
   ]
  },
  {
   "cell_type": "markdown",
   "metadata": {},
   "source": [
    "### 3.1. Calculate frequency distribution of (a) labels and (b) feature values under a particular label, in the training data."
   ]
  },
  {
   "cell_type": "code",
   "execution_count": 22,
   "metadata": {},
   "outputs": [
    {
     "name": "stdout",
     "output_type": "stream",
     "text": [
      "{'Win': 14, 'Lose': 10}\n"
     ]
    }
   ],
   "source": [
    "label2freq = {}\n",
    "label2value2freq_list = [{} for i in range(nFeatures)]\n",
    "\n",
    "for instanceID in range(nTrainingInstances):\n",
    "    \n",
    "    featureValues,label = trainingInstances[instanceID]\n",
    "    if not label in label2freq:\n",
    "        label2freq[label] = 0\n",
    "    label2freq[label] += 1\n",
    "    \n",
    "    for featureID in range(nFeatures):\n",
    "        value = featureValues[featureID]        \n",
    "        if not label in label2value2freq_list[featureID]:\n",
    "            label2value2freq_list[featureID][label] = {}\n",
    "        if not value in label2value2freq_list[featureID][label]:\n",
    "            label2value2freq_list[featureID][label][value] = 0\n",
    "        label2value2freq_list[featureID][label][value] += 1\n",
    "\n",
    "print(label2freq)"
   ]
  },
  {
   "cell_type": "markdown",
   "metadata": {},
   "source": [
    "### 3.2. Calculate P(H): Prior probability"
   ]
  },
  {
   "cell_type": "code",
   "execution_count": 23,
   "metadata": {},
   "outputs": [
    {
     "name": "stdout",
     "output_type": "stream",
     "text": [
      "{'Win': 0.5833333333333334, 'Lose': 0.4166666666666667}\n"
     ]
    }
   ],
   "source": [
    "label2prob = {}\n",
    "tot = sum(item[1] for item in label2freq.items())\n",
    "for label, freq in label2freq.items():\n",
    "    label2prob[label] = freq/tot\n",
    "    \n",
    "print(label2prob)"
   ]
  },
  {
   "cell_type": "markdown",
   "metadata": {},
   "source": [
    "### 3.3. Calculate P(X|H): Likelihood"
   ]
  },
  {
   "cell_type": "code",
   "execution_count": 24,
   "metadata": {},
   "outputs": [
    {
     "name": "stdout",
     "output_type": "stream",
     "text": [
      "[{'Win': {'Home': 0.7142857142857143, 'Away': 0.2857142857142857}, 'Lose': {'Away': 0.5, 'Home': 0.5}}, {'Win': {'Out': 0.8571428571428571, 'In': 0.14285714285714285}, 'Lose': {'In': 0.5, 'Out': 0.5}}, {'Win': {'NBC': 0.7142857142857143, 'ABC': 0.21428571428571427, 'ESPN': 0.07142857142857142}, 'Lose': {'ABC': 0.4, 'FOX': 0.1, 'NBC': 0.4, 'CBS': 0.1}}]\n"
     ]
    }
   ],
   "source": [
    "label2value2prob_list = [{} for i in range(nFeatures)]\n",
    "for featureID in range(nFeatures):\n",
    "    for label in label2prob:\n",
    "        \n",
    "        label2value2prob_list[featureID][label] = {}\n",
    "        totalFreq = 0\n",
    "        for value, freq in label2value2freq_list[featureID][label].items():\n",
    "            totalFreq += freq\n",
    "            \n",
    "        for value, freq in label2value2freq_list[featureID][label].items():\n",
    "                label2value2prob_list[featureID][label][value] = 1.0 * freq/totalFreq\n",
    "        \n",
    "print(label2value2prob_list)"
   ]
  },
  {
   "cell_type": "markdown",
   "metadata": {},
   "source": [
    "### 3.4. Define a function to predict the label based on features by performing Bayesian Inference with training instances"
   ]
  },
  {
   "cell_type": "code",
   "execution_count": 25,
   "metadata": {},
   "outputs": [],
   "source": [
    "def PredictBayes(trainingInstances, featureValues):\n",
    "    \n",
    "    label2posteriori = {}\n",
    "    \n",
    "    for label, prob in label2prob.items():\n",
    "        \n",
    "        posteriori = prob # Prior probability P(H)\n",
    "        \n",
    "        for featureID in range(nFeatures):\n",
    "            \n",
    "            if not label in label2value2prob_list[featureID]:\n",
    "                posteriori = 0\n",
    "                break\n",
    "                \n",
    "            value = featureValues[featureID]\n",
    "            \n",
    "            if not value in label2value2prob_list[featureID][label]:\n",
    "                posteriori = 0\n",
    "                break\n",
    "                \n",
    "            prob_likelihood = label2value2prob_list[featureID][label][value]\n",
    "            \n",
    "            posteriori = prob_likelihood * prob\n",
    "            \n",
    "        label2posteriori[label] = posteriori\n",
    "        \n",
    "    label_posteriori = sorted(label2posteriori.items(), key=lambda x:-x[1])\n",
    "    \n",
    "    return label_posteriori[0][0]"
   ]
  },
  {
   "cell_type": "markdown",
   "metadata": {},
   "source": [
    "### 3.5. Define a function to make prediction for each test instance in the set and calculate the Confusion Matrix"
   ]
  },
  {
   "cell_type": "code",
   "execution_count": 26,
   "metadata": {},
   "outputs": [],
   "source": [
    "def GetConfusionMatrixBayes(testInstances):\n",
    "    \n",
    "    TP, FP, TN, FN = 0, 0, 0, 0\n",
    "\n",
    "    for featureValues, truthLabel in testInstances:\n",
    "\n",
    "        predictLabel = PredictBayes(trainingInstances, featureValues)\n",
    "\n",
    "        print(featureValues, \"Actual label:\", truthLabel, \"| Predicted label:\", predictLabel)\n",
    "\n",
    "        if predictLabel == 'Win' and truthLabel == 'Win': TP += 1\n",
    "        if predictLabel == 'Win' and truthLabel == 'Lose': FP += 1\n",
    "        if predictLabel == 'Lose' and truthLabel == 'Win': FN += 1\n",
    "        if predictLabel == 'Lose' and truthLabel == 'Lose': TN += 1\n",
    "    \n",
    "    return TP, FP, TN, FN"
   ]
  },
  {
   "cell_type": "markdown",
   "metadata": {},
   "source": [
    "### 3.6. Make prediction using Naive Bayes and find the Confusion Matrix"
   ]
  },
  {
   "cell_type": "code",
   "execution_count": 27,
   "metadata": {},
   "outputs": [
    {
     "name": "stdout",
     "output_type": "stream",
     "text": [
      "['Home', 'Out', 'NBC'] Actual label: Win | Predicted label: Win\n",
      "['Home', 'In', 'NBC'] Actual label: Lose | Predicted label: Win\n",
      "['Away', 'Out', 'ESPN'] Actual label: Win | Predicted label: Win\n",
      "['Away', 'Out', 'FOX'] Actual label: Win | Predicted label: Lose\n",
      "['Home', 'Out', 'NBC'] Actual label: Win | Predicted label: Win\n",
      "['Away', 'Out', 'ABC'] Actual label: Win | Predicted label: Lose\n",
      "['Home', 'In', 'NBC'] Actual label: Win | Predicted label: Win\n",
      "['Home', 'Out', 'NBC'] Actual label: Win | Predicted label: Win\n",
      "['Home', 'Out', 'NBC'] Actual label: Win | Predicted label: Win\n",
      "['Away', 'In', 'ABC'] Actual label: Lose | Predicted label: Lose\n",
      "['Home', 'Out', 'NBC'] Actual label: Win | Predicted label: Win\n",
      "['Away', 'In', 'ABC'] Actual label: Lose | Predicted label: Lose\n"
     ]
    }
   ],
   "source": [
    "TP, FP, TN, FN = GetConfusionMatrixBayes(testInstances)"
   ]
  },
  {
   "cell_type": "markdown",
   "metadata": {},
   "source": [
    "### 3.7. Calculate Accuracy, Precision, Recall, and F1 score"
   ]
  },
  {
   "cell_type": "code",
   "execution_count": 28,
   "metadata": {},
   "outputs": [
    {
     "name": "stdout",
     "output_type": "stream",
     "text": [
      "Confusion matrix:\n",
      "\t ---------------\n",
      "\t | TP 7 | FN 2 |\n",
      "\t | FP 1 | TN 2 |\n",
      "\t ---------------\n",
      "Accuracy: 0.75\n",
      "Precision: 0.875\n",
      "Recall: 0.7778\n",
      "F1: 0.8235\n"
     ]
    }
   ],
   "source": [
    "GetMetrics(TP, FP, TN, FN)"
   ]
  }
 ],
 "metadata": {
  "kernelspec": {
   "display_name": "Python 3",
   "language": "python",
   "name": "python3"
  },
  "language_info": {
   "codemirror_mode": {
    "name": "ipython",
    "version": 3
   },
   "file_extension": ".py",
   "mimetype": "text/x-python",
   "name": "python",
   "nbconvert_exporter": "python",
   "pygments_lexer": "ipython3",
   "version": "3.8.8"
  }
 },
 "nbformat": 4,
 "nbformat_minor": 4
}
