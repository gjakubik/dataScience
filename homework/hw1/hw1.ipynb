{
 "cells": [
  {
   "cell_type": "markdown",
   "metadata": {},
   "source": [
    "# 1 Incremental sample mean and variance"
   ]
  },
  {
   "cell_type": "code",
   "execution_count": 38,
   "metadata": {},
   "outputs": [],
   "source": [
    "def f(mu, n, new_x): # find sum of old terms, add new term, divide by n\n",
    "    return ((mu * n) + new_x)/(n+1)"
   ]
  },
  {
   "cell_type": "markdown",
   "metadata": {},
   "source": [
    "Function $f$ is not allowed to be used or duplicated in $g$, and $\\mu'$ is not allowed to be used in $g$. Actually, it will make your $g$ function look simpler if avoid using $f$ or $\\mu'$."
   ]
  },
  {
   "cell_type": "code",
   "execution_count": 47,
   "metadata": {},
   "outputs": [],
   "source": [
    "def g(v, mu, n, new_x): # Please complete this function\n",
    "    return (n/(n+1))*(v+(pow((mu-new_x),2)/(n+1)))"
   ]
  },
  {
   "cell_type": "code",
   "execution_count": 48,
   "metadata": {},
   "outputs": [
    {
     "name": "stdout",
     "output_type": "stream",
     "text": [
      "new_mu 11.0\n",
      "new_v 25.2\n"
     ]
    }
   ],
   "source": [
    "N = 1000000 # population size\n",
    "n = 9 # sample size (old)\n",
    "mu = 10 # old mean value\n",
    "v = 18 # old variance\n",
    "new_x = 20 # a new sample\n",
    "\n",
    "new_mu = f(mu, n, new_x) # new mean value\n",
    "new_v = g(v, mu, n, new_x) # new variance\n",
    "\n",
    "print(\"new_mu\", new_mu)\n",
    "print(\"new_v\", new_v)"
   ]
  },
  {
   "cell_type": "markdown",
   "metadata": {},
   "source": [
    "New sample mean: 11\n",
    "New variance: 25.2"
   ]
  },
  {
   "cell_type": "markdown",
   "metadata": {},
   "source": [
    "# 2 Correlation analysis"
   ]
  },
  {
   "cell_type": "code",
   "execution_count": 29,
   "metadata": {},
   "outputs": [
    {
     "data": {
      "text/html": [
       "<div>\n",
       "<style scoped>\n",
       "    .dataframe tbody tr th:only-of-type {\n",
       "        vertical-align: middle;\n",
       "    }\n",
       "\n",
       "    .dataframe tbody tr th {\n",
       "        vertical-align: top;\n",
       "    }\n",
       "\n",
       "    .dataframe thead th {\n",
       "        text-align: right;\n",
       "    }\n",
       "</style>\n",
       "<table border=\"1\" class=\"dataframe\">\n",
       "  <thead>\n",
       "    <tr style=\"text-align: right;\">\n",
       "      <th></th>\n",
       "      <th>Rank</th>\n",
       "      <th>Institution</th>\n",
       "      <th>Count</th>\n",
       "      <th>Faculty</th>\n",
       "    </tr>\n",
       "  </thead>\n",
       "  <tbody>\n",
       "    <tr>\n",
       "      <th>0</th>\n",
       "      <td>1</td>\n",
       "      <td>► Carnegie Mellon University</td>\n",
       "      <td>17.3</td>\n",
       "      <td>158</td>\n",
       "    </tr>\n",
       "    <tr>\n",
       "      <th>1</th>\n",
       "      <td>2</td>\n",
       "      <td>► Massachusetts Institute of Technology</td>\n",
       "      <td>12.9</td>\n",
       "      <td>89</td>\n",
       "    </tr>\n",
       "    <tr>\n",
       "      <th>2</th>\n",
       "      <td>3</td>\n",
       "      <td>► Univ. of Illinois at Urbana-Champaign</td>\n",
       "      <td>11.9</td>\n",
       "      <td>100</td>\n",
       "    </tr>\n",
       "    <tr>\n",
       "      <th>3</th>\n",
       "      <td>4</td>\n",
       "      <td>► Stanford University</td>\n",
       "      <td>11.2</td>\n",
       "      <td>67</td>\n",
       "    </tr>\n",
       "    <tr>\n",
       "      <th>4</th>\n",
       "      <td>5</td>\n",
       "      <td>► University of California - Berkeley</td>\n",
       "      <td>10.6</td>\n",
       "      <td>92</td>\n",
       "    </tr>\n",
       "    <tr>\n",
       "      <th>...</th>\n",
       "      <td>...</td>\n",
       "      <td>...</td>\n",
       "      <td>...</td>\n",
       "      <td>...</td>\n",
       "    </tr>\n",
       "    <tr>\n",
       "      <th>98</th>\n",
       "      <td>96</td>\n",
       "      <td>► University of Delaware</td>\n",
       "      <td>1.4</td>\n",
       "      <td>11</td>\n",
       "    </tr>\n",
       "    <tr>\n",
       "      <th>99</th>\n",
       "      <td>96</td>\n",
       "      <td>► University of Georgia</td>\n",
       "      <td>1.4</td>\n",
       "      <td>9</td>\n",
       "    </tr>\n",
       "    <tr>\n",
       "      <th>100</th>\n",
       "      <td>96</td>\n",
       "      <td>► University of Kentucky</td>\n",
       "      <td>1.4</td>\n",
       "      <td>10</td>\n",
       "    </tr>\n",
       "    <tr>\n",
       "      <th>101</th>\n",
       "      <td>96</td>\n",
       "      <td>► University of Nebraska</td>\n",
       "      <td>1.4</td>\n",
       "      <td>15</td>\n",
       "    </tr>\n",
       "    <tr>\n",
       "      <th>102</th>\n",
       "      <td>96</td>\n",
       "      <td>► University of New Mexico</td>\n",
       "      <td>1.4</td>\n",
       "      <td>12</td>\n",
       "    </tr>\n",
       "  </tbody>\n",
       "</table>\n",
       "<p>103 rows × 4 columns</p>\n",
       "</div>"
      ],
      "text/plain": [
       "     Rank                              Institution  Count  Faculty\n",
       "0       1             ► Carnegie Mellon University   17.3      158\n",
       "1       2  ► Massachusetts Institute of Technology   12.9       89\n",
       "2       3  ► Univ. of Illinois at Urbana-Champaign   11.9      100\n",
       "3       4                    ► Stanford University   11.2       67\n",
       "4       5    ► University of California - Berkeley   10.6       92\n",
       "..    ...                                      ...    ...      ...\n",
       "98     96                 ► University of Delaware    1.4       11\n",
       "99     96                  ► University of Georgia    1.4        9\n",
       "100    96                 ► University of Kentucky    1.4       10\n",
       "101    96                 ► University of Nebraska    1.4       15\n",
       "102    96               ► University of New Mexico    1.4       12\n",
       "\n",
       "[103 rows x 4 columns]"
      ]
     },
     "execution_count": 29,
     "metadata": {},
     "output_type": "execute_result"
    }
   ],
   "source": [
    "import pandas as pd\n",
    "df = pd.read_csv(\"../datasets/dataset-salary/data-faculty.csv\")\n",
    "df_orig = df.copy()\n",
    "df"
   ]
  },
  {
   "cell_type": "markdown",
   "metadata": {},
   "source": [
    "### 2.1 Describe the mean value, median, Q1, Q3, and variance of the feature “Count” (i.e., score of CS ranking)."
   ]
  },
  {
   "cell_type": "code",
   "execution_count": 30,
   "metadata": {},
   "outputs": [
    {
     "data": {
      "text/plain": [
       "count    103.000000\n",
       "mean       3.619417\n",
       "std        2.927626\n",
       "min        1.400000\n",
       "25%        1.600000\n",
       "50%        2.700000\n",
       "75%        4.100000\n",
       "max       17.300000\n",
       "Name: Count, dtype: float64"
      ]
     },
     "execution_count": 30,
     "metadata": {},
     "output_type": "execute_result"
    }
   ],
   "source": [
    "df[\"Count\"].describe()"
   ]
  },
  {
   "cell_type": "markdown",
   "metadata": {},
   "source": [
    "### 2.2 Normalize the feature “Count” by MIN-MAX and print the normalized feature values."
   ]
  },
  {
   "cell_type": "code",
   "execution_count": 31,
   "metadata": {},
   "outputs": [
    {
     "data": {
      "text/plain": [
       "0      1.000000\n",
       "1      0.723270\n",
       "2      0.660377\n",
       "3      0.616352\n",
       "4      0.578616\n",
       "         ...   \n",
       "98     0.000000\n",
       "99     0.000000\n",
       "100    0.000000\n",
       "101    0.000000\n",
       "102    0.000000\n",
       "Name: Count, Length: 103, dtype: float64"
      ]
     },
     "execution_count": 31,
     "metadata": {},
     "output_type": "execute_result"
    }
   ],
   "source": [
    "df[\"Count\"] = (df[\"Count\"] - df[\"Count\"].min()) / (df[\"Count\"].max() - df[\"Count\"].min())\n",
    "df[\"Count\"]"
   ]
  },
  {
   "cell_type": "markdown",
   "metadata": {},
   "source": [
    "### 2.3 Normalize the feature “Count” by Z SCORE and print the normalized feature values."
   ]
  },
  {
   "cell_type": "code",
   "execution_count": 33,
   "metadata": {},
   "outputs": [
    {
     "data": {
      "text/plain": [
       "0      4.672928\n",
       "1      3.170003\n",
       "2      2.828429\n",
       "3      2.589328\n",
       "4      2.384384\n",
       "         ...   \n",
       "98    -0.758095\n",
       "99    -0.758095\n",
       "100   -0.758095\n",
       "101   -0.758095\n",
       "102   -0.758095\n",
       "Name: Count, Length: 103, dtype: float64"
      ]
     },
     "execution_count": 33,
     "metadata": {},
     "output_type": "execute_result"
    }
   ],
   "source": [
    "df[\"Count\"] = (df[\"Count\"] - df[\"Count\"].mean()) / df[\"Count\"].std()\n",
    "df[\"Count\"]"
   ]
  },
  {
   "cell_type": "markdown",
   "metadata": {},
   "source": [
    "### 2.4  Calculate the correlation coefficient ρ between the original (not the normalized) “Count” and “Faculty”."
   ]
  },
  {
   "cell_type": "code",
   "execution_count": 34,
   "metadata": {},
   "outputs": [
    {
     "data": {
      "text/plain": [
       "0.938469782510467"
      ]
     },
     "execution_count": 34,
     "metadata": {},
     "output_type": "execute_result"
    }
   ],
   "source": [
    "correlation = df_orig[\"Count\"].corr(df_orig[\"Faculty\"])\n",
    "correlation"
   ]
  }
 ],
 "metadata": {
  "interpreter": {
   "hash": "63fd5069d213b44bf678585dea6b12cceca9941eaf7f819626cde1f2670de90d"
  },
  "kernelspec": {
   "display_name": "Python 3",
   "language": "python",
   "name": "python3"
  },
  "language_info": {
   "codemirror_mode": {
    "name": "ipython",
    "version": 3
   },
   "file_extension": ".py",
   "mimetype": "text/x-python",
   "name": "python",
   "nbconvert_exporter": "python",
   "pygments_lexer": "ipython3",
   "version": "3.8.8"
  }
 },
 "nbformat": 4,
 "nbformat_minor": 4
}
